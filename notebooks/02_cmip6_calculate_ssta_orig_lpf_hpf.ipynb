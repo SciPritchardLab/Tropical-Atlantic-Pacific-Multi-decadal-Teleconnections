{
 "cells": [
  {
   "cell_type": "markdown",
   "metadata": {},
   "source": [
    "# Calculate the original, low, and high pass filtered SST anomalies\n",
    "\n",
    "1. Model names and paths\n",
    "2. Read the data\n",
    "3. Calculate the original SST anomalies\n",
    "4. Calculate the low pass filtered SST anomalies\n",
    "5. Calculate the high pass filtered SST anomalies\n",
    "6. Save the data\n",
    "\n"
   ]
  },
  {
   "cell_type": "code",
   "execution_count": 1,
   "metadata": {},
   "outputs": [
    {
     "name": "stderr",
     "output_type": "stream",
     "text": [
      "/global/homes/y/yanxia/.conda/envs/climate/lib/python3.10/site-packages/pyproj/__init__.py:89: UserWarning: pyproj unable to set database path.\n",
      "  _pyproj_global_context_initialize()\n"
     ]
    },
    {
     "name": "stdout",
     "output_type": "stream",
     "text": [
      "2024-10-22 14:49:10.093939\n"
     ]
    }
   ],
   "source": [
    "import xarray as xr\n",
    "import pandas as pd\n",
    "from scipy.stats import pearsonr\n",
    "import matplotlib.pyplot as plt\n",
    "import cartopy.crs as ccrs\n",
    "import cartopy.feature as cfeature\n",
    "import seaborn as sns\n",
    "import numpy as np\n",
    "from scipy.stats import linregress\n",
    "from scipy import stats\n",
    "from itertools import cycle\n",
    "import cftime\n",
    "from cmip_postprocess import *  \n",
    "import warnings\n",
    "warnings.filterwarnings('ignore')"
   ]
  },
  {
   "cell_type": "code",
   "execution_count": 2,
   "metadata": {},
   "outputs": [],
   "source": [
    "# Configuration\n",
    "paths = {\n",
    "    'cmip': '../data/raw/', # downloaded from Pangeo\n",
    "    'MMF': '../data/raw/E3SM-MMF_1950-2015_Regrid180x360.nc', # E3SM-MMF simulation output\n",
    "    'E3SM': '../data/raw/E3SM_1950-2015_regrid180x360.nc', # E3SM simulation output\n",
    "    'ersst': '../data/raw/ersst.v5.185401-201512.nc', # ERSST observation\n",
    "    'Hadley_SST2': '../data/raw/HadISST.0-360.nc' # HadISST observation\n",
    "}\n",
    "\n",
    "rolling_times = {\n",
    "    'decadal': 121, # 10 years\n",
    "}\n"
   ]
  },
  {
   "cell_type": "code",
   "execution_count": 9,
   "metadata": {},
   "outputs": [],
   "source": [
    "def get_input_names(path, model_file='source_id.txt'):\n",
    "    with open(f\"{path}{model_file}\", \"r\") as f:\n",
    "        models = [line.strip() for line in f]\n",
    "    return models, [f\"{path}{model}\" for model in models]\n",
    "\n",
    "\n",
    "def get_data_type(model):\n",
    "    if model in ['ERSST']:\n",
    "        return 3\n",
    "    elif model in ['HadISST']:\n",
    "        return 1\n",
    "    else:\n",
    "        return 2\n",
    "\n",
    "# write a function to calculate the ssta \n",
    "# 1. Read the data\n",
    "# 2. Calculate the SST anomalies\n",
    "# 3. Detrend the data\n",
    "# 4. optional: rolling mean, no rolling mean for original ssta, decadal for lpf \n",
    "def cal_ssta(models, files, rolling_time=None):\n",
    "    ssta = {}\n",
    "    for model, file in zip(models, files):\n",
    "        print('Start processing: {0}'.format(model))\n",
    "        ssta[model] = read_data(file, data_type=get_data_type(model), model=model)\n",
    "        ssta[model], _ = ano_norm_t(ssta[model], rolling_time=rolling_time)\n",
    "        ssta[model] = detrend_dim(ssta[model], 'time')\n",
    "\n",
    "        decadal = rolling_times['decadal']\n",
    "        time_slice = slice(int(decadal/2), -int(decadal/2))\n",
    "        ssta[model] = ssta[model].isel(time=time_slice)\n",
    "\n",
    "    return ssta"
   ]
  },
  {
   "cell_type": "code",
   "execution_count": null,
   "metadata": {},
   "outputs": [],
   "source": [
    "# Include the observation data and simulation data: HadISST, ERSST, E3SM-MMF, E3SMv2\n",
    "models, model_files = get_input_names(paths['cmip'])\n",
    "models.extend(['E3SM-MMF', 'E3SMv2', 'HadISST', 'ERSST'])\n",
    "model_files.extend([paths['MMF'], paths['E3SM'], paths['Hadley_SST2'], paths['ersst']])"
   ]
  },
  {
   "cell_type": "code",
   "execution_count": null,
   "metadata": {},
   "outputs": [],
   "source": [
    "# Calculate the original SST anomalies\n",
    "orig_ssta = cal_ssta(models, model_files, rolling_time=None)"
   ]
  },
  {
   "cell_type": "code",
   "execution_count": null,
   "metadata": {},
   "outputs": [],
   "source": [
    "# Calculate the low pass filtered SST anomalies\n",
    "lpf_ssta = cal_ssta(models, model_files, rolling_time=rolling_times['decadal'])"
   ]
  },
  {
   "cell_type": "code",
   "execution_count": null,
   "metadata": {},
   "outputs": [],
   "source": [
    "# Calculate the high pass filtered SST anomalies as the difference between the original and low pass filtered SST anomalies\n",
    "hpf_ssta = {}\n",
    "for model in models:\n",
    "    hpf_ssta[model] = orig_ssta[model] - lpf_ssta[model]"
   ]
  },
  {
   "cell_type": "code",
   "execution_count": null,
   "metadata": {},
   "outputs": [],
   "source": [
    "# Save the data to pickle files\n",
    "save_datasets_to_pickle(lpf_ssta, '../data/processed/lpf_ssta.pkl')\n",
    "save_datasets_to_pickle(orig_ssta, '../data/processed/orig_ssta.pkl')\n",
    "save_datasets_to_pickle(hpf_ssta, '../data/processed/hpf_ssta.pkl')\n"
   ]
  }
 ],
 "metadata": {
  "kernelspec": {
   "display_name": "climate",
   "language": "python",
   "name": "python3"
  },
  "language_info": {
   "codemirror_mode": {
    "name": "ipython",
    "version": 3
   },
   "file_extension": ".py",
   "mimetype": "text/x-python",
   "name": "python",
   "nbconvert_exporter": "python",
   "pygments_lexer": "ipython3",
   "version": "3.10.13"
  }
 },
 "nbformat": 4,
 "nbformat_minor": 4
}
